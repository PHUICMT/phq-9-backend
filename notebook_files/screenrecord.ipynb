{
 "cells": [
  {
   "cell_type": "code",
   "execution_count": 1,
   "metadata": {
    "scrolled": true
   },
   "outputs": [
    {
     "ename": "ImportError",
     "evalue": "No module named cv2",
     "output_type": "error",
     "traceback": [
      "\u001b[1;31m---------------------------------------------------------------------------\u001b[0m",
      "\u001b[1;31mImportError\u001b[0m                               Traceback (most recent call last)",
      "\u001b[1;32m<ipython-input-1-c0dfeff283ba>\u001b[0m in \u001b[0;36m<module>\u001b[1;34m()\u001b[0m\n\u001b[1;32m----> 1\u001b[1;33m \u001b[1;32mimport\u001b[0m \u001b[0mcv2\u001b[0m\u001b[1;33m\u001b[0m\u001b[0m\n\u001b[0m\u001b[0;32m      2\u001b[0m \u001b[1;32mimport\u001b[0m \u001b[0mnumpy\u001b[0m \u001b[1;32mas\u001b[0m \u001b[0mnp\u001b[0m\u001b[1;33m\u001b[0m\u001b[0m\n\u001b[0;32m      3\u001b[0m \u001b[1;32mimport\u001b[0m \u001b[0mos\u001b[0m\u001b[1;33m\u001b[0m\u001b[0m\n\u001b[0;32m      4\u001b[0m \u001b[1;32mimport\u001b[0m \u001b[0mpyautogui\u001b[0m\u001b[1;33m\u001b[0m\u001b[0m\n\u001b[0;32m      5\u001b[0m \u001b[1;32mfrom\u001b[0m \u001b[0mPIL\u001b[0m \u001b[1;32mimport\u001b[0m \u001b[1;33m*\u001b[0m\u001b[1;33m\u001b[0m\u001b[0m\n",
      "\u001b[1;31mImportError\u001b[0m: No module named cv2"
     ]
    }
   ],
   "source": [
    "import cv2\n",
    "import numpy as np\n",
    "import os\n",
    "import pyautogui\n",
    "from PIL import *\n",
    "import win32gui\n",
    "import mysql.connector\n",
    "\n",
    "def findNum(path = 'D://xammp//htdocs//project//record//'):\n",
    "    listNum = [int(fileout.split('_')[1].split('.')[0]) for fileout in os.listdir(path) if fileout[:3]=='vdo']\n",
    "    if len(listNum) == 0:\n",
    "        number = 1\n",
    "    else:\n",
    "        number = max(listNum) + 1\n",
    "    return str(number)\n",
    "\n",
    "imCursor = Image.open('cursor.png')    \n",
    "output = r'D:\\xammp\\htdocs\\project\\record\\vdo_' + findNum() + '.mp4'\n",
    "vdo_name = 'vdo_' + findNum() + '.mp4'\n",
    "img = pyautogui.screenshot()\n",
    "img = cv2.cvtColor(np.array(img), cv2.COLOR_RGB2BGR)\n",
    "#get info from img\n",
    "height, width, channels = img.shape\n",
    "# Define the codec and create VideoWriter object\n",
    "fourcc = cv2.VideoWriter_fourcc(*'H264')\n",
    "out = cv2.VideoWriter(output, fourcc, 20.0, (width, height))\n",
    "\n",
    "def update_data():\n",
    "    \n",
    "    id_file = open( r'D:\\xammp\\htdocs\\project\\id.txt', 'r')\n",
    "    read_id_file = id_file.read()\n",
    "    id_file.close()\n",
    "    \n",
    "    \n",
    "    mydb = mysql.connector.connect(\n",
    "      host=\"localhost\",\n",
    "      user=\"root\",\n",
    "      passwd=\"\",\n",
    "      database=\"project\"\n",
    "    )\n",
    "    mycursor = mydb.cursor()\n",
    "\n",
    "    sql = \"UPDATE userid SET vdo_name = '\" + vdo_name + \"' WHERE  id = '\"+ read_id_file +\"'\"\n",
    "\n",
    "    mycursor.execute(sql)\n",
    "\n",
    "    mydb.commit()\n",
    "\n",
    "    print(mycursor.rowcount, \"record sucsess.\")\n",
    "\n",
    "while(True):\n",
    "    try:\n",
    "        curX,curY=win32gui.GetCursorPos()\n",
    "        img = pyautogui.screenshot()\n",
    "        img.paste(imCursor,box=(curX,curY),mask=imCursor)\n",
    "        image = cv2.cvtColor(np.array(img), cv2.COLOR_RGB2BGR)\n",
    "        out.write(image)\n",
    "        StopIteration(0.5)\n",
    "    except KeyboardInterrupt:\n",
    "        #update_data()\n",
    "        break\n",
    "\n",
    "out.release()\n",
    "cv2.destroyAllWindows()"
   ]
  },
  {
   "cell_type": "code",
   "execution_count": null,
   "metadata": {},
   "outputs": [],
   "source": []
  }
 ],
 "metadata": {
  "celltoolbar": "Raw Cell Format",
  "kernelspec": {
   "display_name": "Python 2",
   "language": "python",
   "name": "python2"
  },
  "language_info": {
   "codemirror_mode": {
    "name": "ipython",
    "version": 2
   },
   "file_extension": ".py",
   "mimetype": "text/x-python",
   "name": "python",
   "nbconvert_exporter": "python",
   "pygments_lexer": "ipython2",
   "version": "2.7.18"
  }
 },
 "nbformat": 4,
 "nbformat_minor": 2
}